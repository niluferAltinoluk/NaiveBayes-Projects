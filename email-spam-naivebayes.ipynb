{
 "cells": [
  {
   "cell_type": "code",
   "execution_count": 43,
   "id": "b358585f-cc53-4bce-97cb-e928a6d9c5af",
   "metadata": {},
   "outputs": [],
   "source": [
    "import numpy as np \n",
    "import pandas as pd\n",
    "import matplotlib.pyplot as plt\n",
    "import seaborn as sns\n",
    "from sklearn.model_selection import train_test_split\n"
   ]
  },
  {
   "cell_type": "code",
   "execution_count": 44,
   "id": "f2cd1885-f08f-4fe0-b529-1cacb6dea549",
   "metadata": {},
   "outputs": [],
   "source": [
    "df = pd.read_csv('spam.csv' ,encoding='latin-1')\n",
    "#Our data is not encoded in UTF-8."
   ]
  },
  {
   "cell_type": "code",
   "execution_count": 45,
   "id": "a535bcd5-3f73-45c1-8581-5c8d8bdf821a",
   "metadata": {},
   "outputs": [
    {
     "data": {
      "text/plain": [
       "(5572, 5)"
      ]
     },
     "execution_count": 45,
     "metadata": {},
     "output_type": "execute_result"
    }
   ],
   "source": [
    "df.shape"
   ]
  },
  {
   "cell_type": "code",
   "execution_count": 46,
   "id": "4e5ee371-7914-4f9d-b273-0ec7febf7dfd",
   "metadata": {},
   "outputs": [
    {
     "data": {
      "text/html": [
       "<div>\n",
       "<style scoped>\n",
       "    .dataframe tbody tr th:only-of-type {\n",
       "        vertical-align: middle;\n",
       "    }\n",
       "\n",
       "    .dataframe tbody tr th {\n",
       "        vertical-align: top;\n",
       "    }\n",
       "\n",
       "    .dataframe thead th {\n",
       "        text-align: right;\n",
       "    }\n",
       "</style>\n",
       "<table border=\"1\" class=\"dataframe\">\n",
       "  <thead>\n",
       "    <tr style=\"text-align: right;\">\n",
       "      <th></th>\n",
       "      <th>v1</th>\n",
       "      <th>v2</th>\n",
       "      <th>Unnamed: 2</th>\n",
       "      <th>Unnamed: 3</th>\n",
       "      <th>Unnamed: 4</th>\n",
       "    </tr>\n",
       "  </thead>\n",
       "  <tbody>\n",
       "    <tr>\n",
       "      <th>0</th>\n",
       "      <td>ham</td>\n",
       "      <td>Go until jurong point, crazy.. Available only ...</td>\n",
       "      <td>NaN</td>\n",
       "      <td>NaN</td>\n",
       "      <td>NaN</td>\n",
       "    </tr>\n",
       "    <tr>\n",
       "      <th>1</th>\n",
       "      <td>ham</td>\n",
       "      <td>Ok lar... Joking wif u oni...</td>\n",
       "      <td>NaN</td>\n",
       "      <td>NaN</td>\n",
       "      <td>NaN</td>\n",
       "    </tr>\n",
       "    <tr>\n",
       "      <th>2</th>\n",
       "      <td>spam</td>\n",
       "      <td>Free entry in 2 a wkly comp to win FA Cup fina...</td>\n",
       "      <td>NaN</td>\n",
       "      <td>NaN</td>\n",
       "      <td>NaN</td>\n",
       "    </tr>\n",
       "    <tr>\n",
       "      <th>3</th>\n",
       "      <td>ham</td>\n",
       "      <td>U dun say so early hor... U c already then say...</td>\n",
       "      <td>NaN</td>\n",
       "      <td>NaN</td>\n",
       "      <td>NaN</td>\n",
       "    </tr>\n",
       "    <tr>\n",
       "      <th>4</th>\n",
       "      <td>ham</td>\n",
       "      <td>Nah I don't think he goes to usf, he lives aro...</td>\n",
       "      <td>NaN</td>\n",
       "      <td>NaN</td>\n",
       "      <td>NaN</td>\n",
       "    </tr>\n",
       "  </tbody>\n",
       "</table>\n",
       "</div>"
      ],
      "text/plain": [
       "     v1                                                 v2 Unnamed: 2  \\\n",
       "0   ham  Go until jurong point, crazy.. Available only ...        NaN   \n",
       "1   ham                      Ok lar... Joking wif u oni...        NaN   \n",
       "2  spam  Free entry in 2 a wkly comp to win FA Cup fina...        NaN   \n",
       "3   ham  U dun say so early hor... U c already then say...        NaN   \n",
       "4   ham  Nah I don't think he goes to usf, he lives aro...        NaN   \n",
       "\n",
       "  Unnamed: 3 Unnamed: 4  \n",
       "0        NaN        NaN  \n",
       "1        NaN        NaN  \n",
       "2        NaN        NaN  \n",
       "3        NaN        NaN  \n",
       "4        NaN        NaN  "
      ]
     },
     "execution_count": 46,
     "metadata": {},
     "output_type": "execute_result"
    }
   ],
   "source": [
    "df.head()"
   ]
  },
  {
   "cell_type": "code",
   "execution_count": 47,
   "id": "a2681b29-db5b-435e-be7a-c06d90f53458",
   "metadata": {},
   "outputs": [],
   "source": [
    "df = df.drop(columns=['Unnamed: 2', 'Unnamed: 3', 'Unnamed: 4'], axis=1)\n",
    "#we drop the unnecessary columns."
   ]
  },
  {
   "cell_type": "code",
   "execution_count": 48,
   "id": "74319c1d-8f95-4e54-a9e7-97546170beb6",
   "metadata": {},
   "outputs": [],
   "source": [
    "df.columns = ['label', 'text']\n",
    "#We renamed our columns."
   ]
  },
  {
   "cell_type": "code",
   "execution_count": 49,
   "id": "4fc37214-3481-4e85-8490-93dfc1b8d05a",
   "metadata": {},
   "outputs": [
    {
     "data": {
      "text/html": [
       "<div>\n",
       "<style scoped>\n",
       "    .dataframe tbody tr th:only-of-type {\n",
       "        vertical-align: middle;\n",
       "    }\n",
       "\n",
       "    .dataframe tbody tr th {\n",
       "        vertical-align: top;\n",
       "    }\n",
       "\n",
       "    .dataframe thead th {\n",
       "        text-align: right;\n",
       "    }\n",
       "</style>\n",
       "<table border=\"1\" class=\"dataframe\">\n",
       "  <thead>\n",
       "    <tr style=\"text-align: right;\">\n",
       "      <th></th>\n",
       "      <th>label</th>\n",
       "      <th>text</th>\n",
       "    </tr>\n",
       "  </thead>\n",
       "  <tbody>\n",
       "    <tr>\n",
       "      <th>0</th>\n",
       "      <td>ham</td>\n",
       "      <td>Go until jurong point, crazy.. Available only ...</td>\n",
       "    </tr>\n",
       "    <tr>\n",
       "      <th>1</th>\n",
       "      <td>ham</td>\n",
       "      <td>Ok lar... Joking wif u oni...</td>\n",
       "    </tr>\n",
       "    <tr>\n",
       "      <th>2</th>\n",
       "      <td>spam</td>\n",
       "      <td>Free entry in 2 a wkly comp to win FA Cup fina...</td>\n",
       "    </tr>\n",
       "    <tr>\n",
       "      <th>3</th>\n",
       "      <td>ham</td>\n",
       "      <td>U dun say so early hor... U c already then say...</td>\n",
       "    </tr>\n",
       "    <tr>\n",
       "      <th>4</th>\n",
       "      <td>ham</td>\n",
       "      <td>Nah I don't think he goes to usf, he lives aro...</td>\n",
       "    </tr>\n",
       "  </tbody>\n",
       "</table>\n",
       "</div>"
      ],
      "text/plain": [
       "  label                                               text\n",
       "0   ham  Go until jurong point, crazy.. Available only ...\n",
       "1   ham                      Ok lar... Joking wif u oni...\n",
       "2  spam  Free entry in 2 a wkly comp to win FA Cup fina...\n",
       "3   ham  U dun say so early hor... U c already then say...\n",
       "4   ham  Nah I don't think he goes to usf, he lives aro..."
      ]
     },
     "execution_count": 49,
     "metadata": {},
     "output_type": "execute_result"
    }
   ],
   "source": [
    "df.head()"
   ]
  },
  {
   "cell_type": "code",
   "execution_count": 50,
   "id": "a377df29-c284-4658-9eed-48da41237bf6",
   "metadata": {},
   "outputs": [
    {
     "data": {
      "image/png": "[encoded data removed]",
      "text/plain": [
       "<Figure size 400x400 with 1 Axes>"
      ]
     },
     "metadata": {},
     "output_type": "display_data"
    }
   ],
   "source": [
    "#Count the number of tags\n",
    "label_counts = df['label'].value_counts()\n",
    "color = ['black', 'teal'] \n",
    "\n",
    "# Create pie chart\n",
    "plt.figure(figsize=(4, 4))\n",
    "plt.pie(label_counts, labels=label_counts.index, autopct='%1.1f%%', startangle=140, colors=color)\n",
    "plt.title('Spam and Non-Spam Email Distribution')\n",
    "plt.ylabel('Spam-Ham')\n",
    "plt.show()"
   ]
  },
  {
   "cell_type": "code",
   "execution_count": 51,
   "id": "5c95ba49-3bd3-4389-99b1-7c64d0f22b46",
   "metadata": {},
   "outputs": [],
   "source": [
    "X =  df.drop('label', axis=1)\n",
    "y = df['label']\n",
    "X_train, X_test, y_train, y_test = train_test_split(X, y, test_size=0.2, random_state=42)"
   ]
  },
  {
   "cell_type": "code",
   "execution_count": 52,
   "id": "f08a5d21-b39f-4173-80f4-d5cb9c5f8be6",
   "metadata": {},
   "outputs": [],
   "source": [
    "from sklearn.feature_extraction.text import CountVectorizer\n",
    "#is to convert text data into a numerical matrix.\n",
    "from sklearn.naive_bayes import GaussianNB, MultinomialNB, BernoulliNB\n",
    "from sklearn.metrics import accuracy_score, classification_report"
   ]
  },
  {
   "cell_type": "code",
   "execution_count": 53,
   "id": "95f243b3-a607-469b-acb2-11db2b986727",
   "metadata": {},
   "outputs": [],
   "source": [
    "# Create a CountVectorizer instance\n",
    "vectorizer = CountVectorizer()"
   ]
  },
  {
   "cell_type": "code",
   "execution_count": 54,
   "id": "16ea5f49-9831-4159-abf0-c4c89ceb3d03",
   "metadata": {},
   "outputs": [],
   "source": [
    "# We adapt and transform our training data\n",
    "X_train_vectorized = vectorizer.fit_transform(X_train['text'])\n",
    "\n",
    "# We adapt and transform our testing data\n",
    "X_test_vectorized = vectorizer.transform(X_test['text'])"
   ]
  },
  {
   "cell_type": "code",
   "execution_count": 55,
   "id": "58de8067-6cb5-4bd3-8068-c33645a86fd1",
   "metadata": {},
   "outputs": [],
   "source": [
    "#We creat binary features for BernoulliNB\n",
    "X_train_binary = X_train_vectorized.copy()\n",
    "X_train_binary[X_train_binary > 0] = 1\n",
    "X_test_binary = X_test_vectorized.copy()\n",
    "X_test_binary[X_test_binary > 0] = 1"
   ]
  },
  {
   "cell_type": "code",
   "execution_count": 56,
   "id": "04f8360d-b93c-4bad-bd23-6e7306fb683f",
   "metadata": {},
   "outputs": [
    {
     "name": "stdout",
     "output_type": "stream",
     "text": [
      "Multinomial Naive Bayes Results:\n",
      "Accuracy: 0.9838565022421525\n",
      "Classification Report:\n",
      "               precision    recall  f1-score   support\n",
      "\n",
      "         ham       0.98      1.00      0.99       965\n",
      "        spam       0.99      0.89      0.94       150\n",
      "\n",
      "    accuracy                           0.98      1115\n",
      "   macro avg       0.98      0.95      0.96      1115\n",
      "weighted avg       0.98      0.98      0.98      1115\n",
      "\n",
      "--------------------------------------------------\n",
      "Gaussian Naive Bayes Results:\n",
      "Accuracy: 0.9004484304932735\n",
      "Classification Report:\n",
      "               precision    recall  f1-score   support\n",
      "\n",
      "         ham       0.99      0.90      0.94       965\n",
      "        spam       0.58      0.92      0.71       150\n",
      "\n",
      "    accuracy                           0.90      1115\n",
      "   macro avg       0.78      0.91      0.83      1115\n",
      "weighted avg       0.93      0.90      0.91      1115\n",
      "\n",
      "--------------------------------------------------\n",
      "Bernoulli Naive Bayes Results:\n",
      "Accuracy: 0.9748878923766816\n",
      "Classification Report:\n",
      "               precision    recall  f1-score   support\n",
      "\n",
      "         ham       0.97      1.00      0.99       965\n",
      "        spam       1.00      0.81      0.90       150\n",
      "\n",
      "    accuracy                           0.97      1115\n",
      "   macro avg       0.99      0.91      0.94      1115\n",
      "weighted avg       0.98      0.97      0.97      1115\n",
      "\n",
      "--------------------------------------------------\n"
     ]
    }
   ],
   "source": [
    "# Multinomial Naive Bayes\n",
    "mnb_classifier = MultinomialNB()\n",
    "mnb_classifier.fit(X_train_vectorized, y_train)\n",
    "mnb_predictions = mnb_classifier.predict(X_test_vectorized)\n",
    "print(\"Multinomial Naive Bayes Results:\")\n",
    "print(\"Accuracy:\", accuracy_score(y_test, mnb_predictions))\n",
    "print(\"Classification Report:\\n\", classification_report(y_test, mnb_predictions))\n",
    "print(\"-\" * 50)\n",
    "\n",
    "# Gaussian Naive Bayes\n",
    "gnb_classifier = GaussianNB()\n",
    "# We need to convert it to dense matrix.\n",
    "gnb_classifier.fit(X_train_vectorized.toarray(), y_train)\n",
    "gnb_predictions = gnb_classifier.predict(X_test_vectorized.toarray())\n",
    "print(\"Gaussian Naive Bayes Results:\")\n",
    "print(\"Accuracy:\", accuracy_score(y_test, gnb_predictions))\n",
    "print(\"Classification Report:\\n\", classification_report(y_test, gnb_predictions))\n",
    "print(\"-\" * 50)\n",
    "\n",
    "# Bernoulli Naive Bayes\n",
    "bnb_classifier = BernoulliNB()\n",
    "bnb_classifier.fit(X_train_binary, y_train)\n",
    "bnb_predictions = bnb_classifier.predict(X_test_binary)\n",
    "print(\"Bernoulli Naive Bayes Results:\")\n",
    "print(\"Accuracy:\", accuracy_score(y_test, bnb_predictions))\n",
    "print(\"Classification Report:\\n\", classification_report(y_test, bnb_predictions))\n",
    "print(\"-\" * 50)"
   ]
  },
  {
   "cell_type": "code",
   "execution_count": null,
   "id": "2465d6fb-cfe1-4d91-a133-37739421f953",
   "metadata": {},
   "outputs": [],
   "source": []
  }
 ],
 "metadata": {
  "kernelspec": {
   "display_name": "Python 3 (ipykernel)",
   "language": "python",
   "name": "python3"
  },
  "language_info": {
   "codemirror_mode": {
    "name": "ipython",
    "version": 3
   },
   "file_extension": ".py",
   "mimetype": "text/x-python",
   "name": "python",
   "nbconvert_exporter": "python",
   "pygments_lexer": "ipython3",
   "version": "3.12.4"
  }
 },
 "nbformat": 4,
 "nbformat_minor": 5
}
